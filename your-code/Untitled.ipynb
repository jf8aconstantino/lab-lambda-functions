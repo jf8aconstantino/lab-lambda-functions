{
 "cells": [
  {
   "cell_type": "code",
   "execution_count": 15,
   "id": "fb575a76-edfa-4baa-b2d1-2d28ab061351",
   "metadata": {},
   "outputs": [],
   "source": [
    "import pandas as pd"
   ]
  },
  {
   "cell_type": "code",
   "execution_count": 4,
   "id": "04dff3bf-8590-49d7-bce9-8d13bde02349",
   "metadata": {},
   "outputs": [],
   "source": [
    "matrix = [(22, 34, 23),\n",
    "         (33, 31, 11),\n",
    "         (44, 16, 21),\n",
    "         (55, 32, 22),\n",
    "         (66, 33, 27),\n",
    "         (77, 35, 11)\n",
    "         ]"
   ]
  },
  {
   "cell_type": "code",
   "execution_count": 16,
   "id": "58aabc79-5b5e-4b6b-ab3c-5a1ec5881655",
   "metadata": {},
   "outputs": [],
   "source": [
    "dfobj = pd.DataFrame(matrix, columns=list('xyz'), index=list('abcdef'))"
   ]
  },
  {
   "cell_type": "code",
   "execution_count": 17,
   "id": "f8568283-06d9-4b95-9d7b-ff2382bf00a6",
   "metadata": {},
   "outputs": [
    {
     "data": {
      "text/plain": [
       "<bound method NDFrame.head of     x   y   z\n",
       "a  22  34  23\n",
       "b  33  31  11\n",
       "c  44  16  21\n",
       "d  55  32  22\n",
       "e  66  33  27\n",
       "f  77  35  11>"
      ]
     },
     "execution_count": 17,
     "metadata": {},
     "output_type": "execute_result"
    }
   ],
   "source": [
    "dfobj.head"
   ]
  },
  {
   "cell_type": "code",
   "execution_count": 18,
   "id": "be2360e2-63d7-443a-ae51-fbdd5486d153",
   "metadata": {},
   "outputs": [],
   "source": [
    "import numpy as np\n",
    "moddfobj = dfobj.apply(lambda x:np.square (x) if x.name == 'z' else x )"
   ]
  },
  {
   "cell_type": "code",
   "execution_count": 19,
   "id": "7efeae78-e35a-4309-902c-d4ae23fce4e4",
   "metadata": {},
   "outputs": [
    {
     "name": "stdout",
     "output_type": "stream",
     "text": [
      "    x   y    z\n",
      "a  22  34  529\n",
      "b  33  31  121\n",
      "c  44  16  441\n",
      "d  55  32  484\n",
      "e  66  33  729\n",
      "f  77  35  121\n"
     ]
    }
   ],
   "source": [
    "print(moddfobj)"
   ]
  },
  {
   "cell_type": "code",
   "execution_count": 22,
   "id": "5de1102f-8160-487e-9827-2ee645bf75eb",
   "metadata": {},
   "outputs": [],
   "source": [
    "import numpy as np"
   ]
  },
  {
   "cell_type": "code",
   "execution_count": 24,
   "id": "1349fee3-f0b1-45e1-86d3-de5d61f0894b",
   "metadata": {},
   "outputs": [
    {
     "name": "stdout",
     "output_type": "stream",
     "text": [
      "   A  B  C\n",
      "0  1  2  3\n",
      "1  4  5  6\n",
      "2  7  8  9\n"
     ]
    }
   ],
   "source": [
    "df = pd.DataFrame([[1,2,3],[4,5,6],[7,8,9]], columns=['A','B','C'])\n",
    "print(df)"
   ]
  },
  {
   "cell_type": "code",
   "execution_count": 30,
   "id": "ecd45a10-0dab-4b7d-a7a5-6beb1945e179",
   "metadata": {},
   "outputs": [],
   "source": [
    "def add_2(x):\n",
    "    return x+2\n",
    "\n"
   ]
  },
  {
   "cell_type": "code",
   "execution_count": 33,
   "id": "6b41e347-79eb-443d-9b1e-29ab152ae40a",
   "metadata": {},
   "outputs": [
    {
     "name": "stdout",
     "output_type": "stream",
     "text": [
      "    A   B\n",
      "0  14  15\n",
      "1  17  18\n",
      "2  20  21\n"
     ]
    }
   ],
   "source": [
    "df = df[['A','B']].apply(add_2)\n",
    "print(df)"
   ]
  },
  {
   "cell_type": "code",
   "execution_count": null,
   "id": "0aada5d1-2e94-4602-99de-fce8c912ae69",
   "metadata": {},
   "outputs": [],
   "source": []
  },
  {
   "cell_type": "code",
   "execution_count": null,
   "id": "cecc74b5-c5de-42f7-b9cb-fbc2080c3932",
   "metadata": {},
   "outputs": [],
   "source": []
  },
  {
   "cell_type": "code",
   "execution_count": null,
   "id": "93ad7f22-c5ac-4e6b-b4e7-4c57f3714ead",
   "metadata": {},
   "outputs": [],
   "source": []
  }
 ],
 "metadata": {
  "kernelspec": {
   "display_name": "Python 3",
   "language": "python",
   "name": "python3"
  },
  "language_info": {
   "codemirror_mode": {
    "name": "ipython",
    "version": 3
   },
   "file_extension": ".py",
   "mimetype": "text/x-python",
   "name": "python",
   "nbconvert_exporter": "python",
   "pygments_lexer": "ipython3",
   "version": "3.8.8"
  }
 },
 "nbformat": 4,
 "nbformat_minor": 5
}
